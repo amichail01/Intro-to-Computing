{
 "cells": [
  {
   "cell_type": "code",
   "execution_count": null,
   "id": "792d42be",
   "metadata": {},
   "outputs": [],
   "source": [
    "Exercise 1"
   ]
  },
  {
   "cell_type": "code",
   "execution_count": 1,
   "id": "9cf702bc",
   "metadata": {},
   "outputs": [
    {
     "name": "stdout",
     "output_type": "stream",
     "text": [
      "[30, 35, 40, 45, 50, 55, 60]\n"
     ]
    }
   ],
   "source": [
    "nums = list(range(30, 65, 5))\n",
    "print(nums)"
   ]
  },
  {
   "cell_type": "code",
   "execution_count": 2,
   "id": "6f97fa2d",
   "metadata": {},
   "outputs": [
    {
     "name": "stdout",
     "output_type": "stream",
     "text": [
      "[60, 55, 50, 45, 40, 35, 30]\n"
     ]
    }
   ],
   "source": [
    "print(nums[::-1])"
   ]
  },
  {
   "cell_type": "code",
   "execution_count": 4,
   "id": "7387ab22",
   "metadata": {},
   "outputs": [
    {
     "name": "stdout",
     "output_type": "stream",
     "text": [
      "[65, 60, 55, 50, 45, 40, 35, 30]\n"
     ]
    }
   ],
   "source": [
    "nums.append(65)\n",
    "print(nums[::-1])"
   ]
  },
  {
   "cell_type": "code",
   "execution_count": null,
   "id": "991a1750",
   "metadata": {},
   "outputs": [],
   "source": [
    "Exercise 2"
   ]
  },
  {
   "cell_type": "code",
   "execution_count": 9,
   "id": "a5688bce",
   "metadata": {},
   "outputs": [
    {
     "name": "stdout",
     "output_type": "stream",
     "text": [
      "[0, 1, 2, 3, 4, 5, 6, 7, 8, 9, 10, 11, 12, 13, 14, 15, 16, 17, 18, 19, 20]\n"
     ]
    }
   ],
   "source": [
    "x = []\n",
    "x = list(range(0,21,1))\n",
    "print(x)"
   ]
  },
  {
   "cell_type": "code",
   "execution_count": 11,
   "id": "30472679",
   "metadata": {},
   "outputs": [
    {
     "name": "stdout",
     "output_type": "stream",
     "text": [
      "[1, 2, 3, 4, 5, 6, 7, 8, 9, 10, 11, 12, 13, 14, 15, 16, 17, 18, 19, 20]\n"
     ]
    }
   ],
   "source": [
    "x.remove(0)\n",
    "print(x)"
   ]
  },
  {
   "cell_type": "code",
   "execution_count": 12,
   "id": "169dd018",
   "metadata": {
    "scrolled": true
   },
   "outputs": [
    {
     "name": "stdout",
     "output_type": "stream",
     "text": [
      "20\n",
      "20\n",
      "1\n"
     ]
    }
   ],
   "source": [
    "print(len(x))\n",
    "print(max(x))\n",
    "print(min(x))"
   ]
  },
  {
   "cell_type": "code",
   "execution_count": 14,
   "id": "5e633674",
   "metadata": {},
   "outputs": [
    {
     "name": "stdout",
     "output_type": "stream",
     "text": [
      "210\n"
     ]
    }
   ],
   "source": [
    "sum(x)\n",
    "print(sum(x))"
   ]
  },
  {
   "cell_type": "code",
   "execution_count": null,
   "id": "1ddb1713",
   "metadata": {},
   "outputs": [],
   "source": [
    "Exercise 3"
   ]
  },
  {
   "cell_type": "code",
   "execution_count": 35,
   "id": "b829bf4e",
   "metadata": {},
   "outputs": [
    {
     "name": "stdout",
     "output_type": "stream",
     "text": [
      "When Sunny let us play\n",
      "When Rainy let us watch TV\n",
      "When Cloudy let us walk\n"
     ]
    }
   ],
   "source": [
    "weatherList = {\"Sunny\": \"play\", \"Rainy\": \"watch TV\", \"Cloudy\": \"walk\"}\n",
    "for i, j in weatherList.items():\n",
    "    print(\"When\", i, \"let us\", j)"
   ]
  },
  {
   "cell_type": "code",
   "execution_count": 25,
   "id": "d408dbce",
   "metadata": {},
   "outputs": [
    {
     "name": "stdout",
     "output_type": "stream",
     "text": [
      "{'Sunny': 'play', 'Rainy': 'watch TV', 'Cloudy': 'walk', 'Snowy': 'ski'}\n"
     ]
    }
   ],
   "source": [
    "weatherList.update({\"Snowy\": \"ski\"})\n",
    "print(weatherList)"
   ]
  }
 ],
 "metadata": {
  "kernelspec": {
   "display_name": "Python 3 (ipykernel)",
   "language": "python",
   "name": "python3"
  },
  "language_info": {
   "codemirror_mode": {
    "name": "ipython",
    "version": 3
   },
   "file_extension": ".py",
   "mimetype": "text/x-python",
   "name": "python",
   "nbconvert_exporter": "python",
   "pygments_lexer": "ipython3",
   "version": "3.9.7"
  }
 },
 "nbformat": 4,
 "nbformat_minor": 5
}
