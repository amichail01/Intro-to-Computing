{
 "cells": [
  {
   "cell_type": "code",
   "execution_count": null,
   "id": "e0bb989a",
   "metadata": {},
   "outputs": [],
   "source": [
    "Exercise 1"
   ]
  },
  {
   "cell_type": "code",
   "execution_count": 1,
   "id": "24453515",
   "metadata": {},
   "outputs": [
    {
     "data": {
      "text/html": [
       "<table>\n",
       "<tbody>\n",
       "\t<tr><td>7 </td><td>9 </td><td>12</td></tr>\n",
       "\t<tr><td>2 </td><td>4 </td><td>13</td></tr>\n",
       "</tbody>\n",
       "</table>\n"
      ],
      "text/latex": [
       "\\begin{tabular}{lll}\n",
       "\t 7  & 9  & 12\\\\\n",
       "\t 2  & 4  & 13\\\\\n",
       "\\end{tabular}\n"
      ],
      "text/markdown": [
       "\n",
       "| 7  | 9  | 12 |\n",
       "| 2  | 4  | 13 |\n",
       "\n"
      ],
      "text/plain": [
       "     [,1] [,2] [,3]\n",
       "[1,] 7    9    12  \n",
       "[2,] 2    4    13  "
      ]
     },
     "metadata": {},
     "output_type": "display_data"
    },
    {
     "data": {
      "text/html": [
       "<table>\n",
       "<tbody>\n",
       "\t<tr><td>1 </td><td>7 </td><td>12</td><td>19</td></tr>\n",
       "\t<tr><td>2 </td><td>8 </td><td>13</td><td>20</td></tr>\n",
       "\t<tr><td>3 </td><td>9 </td><td>14</td><td>21</td></tr>\n",
       "</tbody>\n",
       "</table>\n"
      ],
      "text/latex": [
       "\\begin{tabular}{llll}\n",
       "\t 1  & 7  & 12 & 19\\\\\n",
       "\t 2  & 8  & 13 & 20\\\\\n",
       "\t 3  & 9  & 14 & 21\\\\\n",
       "\\end{tabular}\n"
      ],
      "text/markdown": [
       "\n",
       "| 1  | 7  | 12 | 19 |\n",
       "| 2  | 8  | 13 | 20 |\n",
       "| 3  | 9  | 14 | 21 |\n",
       "\n"
      ],
      "text/plain": [
       "     [,1] [,2] [,3] [,4]\n",
       "[1,] 1    7    12   19  \n",
       "[2,] 2    8    13   20  \n",
       "[3,] 3    9    14   21  "
      ]
     },
     "metadata": {},
     "output_type": "display_data"
    }
   ],
   "source": [
    "matrix1 <- matrix(c(7, 2, 9, 4, 12, 13), nrow = 2, ncol = 3) \n",
    "matrix2 <- matrix(c(1, 2, 3, 7, 8, 9, 12, 13, 14, 19, 20, 21), nrow = 3, ncol = 4)\n",
    "matrix1\n",
    "matrix2"
   ]
  },
  {
   "cell_type": "code",
   "execution_count": 2,
   "id": "4f1814ae",
   "metadata": {},
   "outputs": [
    {
     "data": {
      "text/html": [
       "<table>\n",
       "<tbody>\n",
       "\t<tr><td>61 </td><td>229</td><td>369</td><td>565</td></tr>\n",
       "\t<tr><td>49 </td><td>163</td><td>258</td><td>391</td></tr>\n",
       "</tbody>\n",
       "</table>\n"
      ],
      "text/latex": [
       "\\begin{tabular}{llll}\n",
       "\t 61  & 229 & 369 & 565\\\\\n",
       "\t 49  & 163 & 258 & 391\\\\\n",
       "\\end{tabular}\n"
      ],
      "text/markdown": [
       "\n",
       "| 61  | 229 | 369 | 565 |\n",
       "| 49  | 163 | 258 | 391 |\n",
       "\n"
      ],
      "text/plain": [
       "     [,1] [,2] [,3] [,4]\n",
       "[1,] 61   229  369  565 \n",
       "[2,] 49   163  258  391 "
      ]
     },
     "metadata": {},
     "output_type": "display_data"
    }
   ],
   "source": [
    "matrix3 <- matrix1 %*% matrix2\n",
    "matrix3"
   ]
  },
  {
   "cell_type": "code",
   "execution_count": null,
   "id": "e22ca7eb",
   "metadata": {},
   "outputs": [],
   "source": [
    "Exercise 2"
   ]
  },
  {
   "cell_type": "code",
   "execution_count": 3,
   "id": "251dba6b",
   "metadata": {},
   "outputs": [
    {
     "data": {
      "text/html": [
       "<table>\n",
       "<thead><tr><th scope=col>id</th><th scope=col>name</th><th scope=col>salary</th></tr></thead>\n",
       "<tbody>\n",
       "\t<tr><td>1       </td><td>Peter   </td><td>623.30  </td></tr>\n",
       "\t<tr><td>2       </td><td>Amy     </td><td>515.20  </td></tr>\n",
       "\t<tr><td>3       </td><td>Ryan    </td><td>611.00  </td></tr>\n",
       "\t<tr><td>4       </td><td>Gary    </td><td>729.00  </td></tr>\n",
       "\t<tr><td>5       </td><td>Michelle</td><td>843.25  </td></tr>\n",
       "</tbody>\n",
       "</table>\n"
      ],
      "text/latex": [
       "\\begin{tabular}{r|lll}\n",
       " id & name & salary\\\\\n",
       "\\hline\n",
       "\t 1        & Peter    & 623.30  \\\\\n",
       "\t 2        & Amy      & 515.20  \\\\\n",
       "\t 3        & Ryan     & 611.00  \\\\\n",
       "\t 4        & Gary     & 729.00  \\\\\n",
       "\t 5        & Michelle & 843.25  \\\\\n",
       "\\end{tabular}\n"
      ],
      "text/markdown": [
       "\n",
       "| id | name | salary |\n",
       "|---|---|---|\n",
       "| 1        | Peter    | 623.30   |\n",
       "| 2        | Amy      | 515.20   |\n",
       "| 3        | Ryan     | 611.00   |\n",
       "| 4        | Gary     | 729.00   |\n",
       "| 5        | Michelle | 843.25   |\n",
       "\n"
      ],
      "text/plain": [
       "  id name     salary\n",
       "1 1  Peter    623.30\n",
       "2 2  Amy      515.20\n",
       "3 3  Ryan     611.00\n",
       "4 4  Gary     729.00\n",
       "5 5  Michelle 843.25"
      ]
     },
     "metadata": {},
     "output_type": "display_data"
    }
   ],
   "source": [
    "Data_Frame <- data.frame (\n",
    "  id = c(1, 2, 3, 4, 5),\n",
    "  name = c(\"Peter\", \"Amy\", \"Ryan\", \"Gary\", \"Michelle\"),\n",
    "  salary = c(623.30, 515.20, 611.00, 729.00, 843.25)\n",
    ")\n",
    "Data_Frame"
   ]
  },
  {
   "cell_type": "code",
   "execution_count": 4,
   "id": "e1bf78f0",
   "metadata": {},
   "outputs": [
    {
     "data": {
      "text/html": [
       "<table>\n",
       "<thead><tr><th scope=col>id</th><th scope=col>name</th><th scope=col>salary</th><th scope=col>department</th></tr></thead>\n",
       "<tbody>\n",
       "\t<tr><td>1               </td><td>Peter           </td><td>623.30          </td><td>IT              </td></tr>\n",
       "\t<tr><td>2               </td><td>Amy             </td><td>515.20          </td><td>Computer Science</td></tr>\n",
       "\t<tr><td>3               </td><td>Ryan            </td><td>611.00          </td><td>Finance         </td></tr>\n",
       "\t<tr><td>4               </td><td>Gary            </td><td>729.00          </td><td>Communications  </td></tr>\n",
       "\t<tr><td>5               </td><td>Michelle        </td><td>843.25          </td><td>Marketing       </td></tr>\n",
       "</tbody>\n",
       "</table>\n"
      ],
      "text/latex": [
       "\\begin{tabular}{r|llll}\n",
       " id & name & salary & department\\\\\n",
       "\\hline\n",
       "\t 1                & Peter            & 623.30           & IT              \\\\\n",
       "\t 2                & Amy              & 515.20           & Computer Science\\\\\n",
       "\t 3                & Ryan             & 611.00           & Finance         \\\\\n",
       "\t 4                & Gary             & 729.00           & Communications  \\\\\n",
       "\t 5                & Michelle         & 843.25           & Marketing       \\\\\n",
       "\\end{tabular}\n"
      ],
      "text/markdown": [
       "\n",
       "| id | name | salary | department |\n",
       "|---|---|---|---|\n",
       "| 1                | Peter            | 623.30           | IT               |\n",
       "| 2                | Amy              | 515.20           | Computer Science |\n",
       "| 3                | Ryan             | 611.00           | Finance          |\n",
       "| 4                | Gary             | 729.00           | Communications   |\n",
       "| 5                | Michelle         | 843.25           | Marketing        |\n",
       "\n"
      ],
      "text/plain": [
       "  id name     salary department      \n",
       "1 1  Peter    623.30 IT              \n",
       "2 2  Amy      515.20 Computer Science\n",
       "3 3  Ryan     611.00 Finance         \n",
       "4 4  Gary     729.00 Communications  \n",
       "5 5  Michelle 843.25 Marketing       "
      ]
     },
     "metadata": {},
     "output_type": "display_data"
    }
   ],
   "source": [
    "New_col_DF <- cbind(Data_Frame, department = c(\"IT\", \"Computer Science\", \"Finance\", \"Communications\", \"Marketing\"))\n",
    "New_col_DF"
   ]
  },
  {
   "cell_type": "code",
   "execution_count": 5,
   "id": "65288996",
   "metadata": {},
   "outputs": [
    {
     "data": {
      "text/html": [
       "<table>\n",
       "<thead><tr><th></th><th scope=col>name</th><th scope=col>salary</th></tr></thead>\n",
       "<tbody>\n",
       "\t<tr><th scope=row>1</th><td>Peter   </td><td>623.30  </td></tr>\n",
       "\t<tr><th scope=row>3</th><td>Ryan    </td><td>611.00  </td></tr>\n",
       "\t<tr><th scope=row>5</th><td>Michelle</td><td>843.25  </td></tr>\n",
       "</tbody>\n",
       "</table>\n"
      ],
      "text/latex": [
       "\\begin{tabular}{r|ll}\n",
       "  & name & salary\\\\\n",
       "\\hline\n",
       "\t1 & Peter    & 623.30  \\\\\n",
       "\t3 & Ryan     & 611.00  \\\\\n",
       "\t5 & Michelle & 843.25  \\\\\n",
       "\\end{tabular}\n"
      ],
      "text/markdown": [
       "\n",
       "| <!--/--> | name | salary |\n",
       "|---|---|---|\n",
       "| 1 | Peter    | 623.30   |\n",
       "| 3 | Ryan     | 611.00   |\n",
       "| 5 | Michelle | 843.25   |\n",
       "\n"
      ],
      "text/plain": [
       "  name     salary\n",
       "1 Peter    623.30\n",
       "3 Ryan     611.00\n",
       "5 Michelle 843.25"
      ]
     },
     "metadata": {},
     "output_type": "display_data"
    }
   ],
   "source": [
    "Data_Frame_New <- New_col_DF[c(1, 3, 5), c(2, 3)] \n",
    "Data_Frame_New"
   ]
  },
  {
   "cell_type": "code",
   "execution_count": 6,
   "id": "cea8b624",
   "metadata": {},
   "outputs": [
    {
     "data": {
      "image/png": "[encoded data removed]",
      "text/plain": [
       "plot without title"
      ]
     },
     "metadata": {},
     "output_type": "display_data"
    }
   ],
   "source": [
    "x <- New_col_DF[c(1, 4, 5), \"salary\"]\n",
    "barplot(x, names.arg = c(\"Peter\", \"Gary\", \"Michelle\"), col = \"blue\")"
   ]
  },
  {
   "cell_type": "code",
   "execution_count": 7,
   "id": "43219b50",
   "metadata": {},
   "outputs": [
    {
     "data": {
      "image/png": "[encoded data removed]",
      "text/plain": [
       "Plot with title \"Salary\""
      ]
     },
     "metadata": {},
     "output_type": "display_data"
    }
   ],
   "source": [
    "salary <- c(623.3, 515.2, 611.00, 729.00, 843.25)\n",
    "salary1 <- c(max(salary), min(salary), median(salary))\n",
    "mylabel <- c(\"Highest Salary\", \"Lowest Salary\", \"Median Salary\")\n",
    "colors <- c(\"purple\", \"green\", \"blue\")\n",
    "pie(salary1, label = mylabel, main = \"Salary\", col = colors)"
   ]
  },
  {
   "cell_type": "code",
   "execution_count": null,
   "id": "6c6d5514",
   "metadata": {},
   "outputs": [],
   "source": [
    "Exercise 3"
   ]
  },
  {
   "cell_type": "code",
   "execution_count": 8,
   "id": "e44c75c1",
   "metadata": {},
   "outputs": [
    {
     "data": {
      "text/html": [
       "<table>\n",
       "<thead><tr><th scope=col>Order.Date</th><th scope=col>Order.ID</th><th scope=col>Payment.Instrument.Type</th><th scope=col>Website</th><th scope=col>Purchase.Order.Number</th><th scope=col>Ordering.Customer.Email</th><th scope=col>Shipment.Date</th><th scope=col>Shipping.Address.Name</th><th scope=col>Shipping.Address.Street.1</th><th scope=col>Shipping.Address.Street.2</th><th scope=col>...</th><th scope=col>Order.Status</th><th scope=col>Carrier.Name...Tracking.Number</th><th scope=col>Subtotal</th><th scope=col>Shipping.Charge</th><th scope=col>Tax.Before.Promotions</th><th scope=col>Total.Promotions</th><th scope=col>Tax.Charged</th><th scope=col>Total.Charged</th><th scope=col>Buyer.Name</th><th scope=col>Group.Name</th></tr></thead>\n",
       "<tbody>\n",
       "\t<tr><td>9/13/2019                   </td><td>114-5553364-8799441         </td><td>Visa - 1148                 </td><td>Amazon.com                  </td><td>NA                          </td><td>michail.andreas01@gmail.com </td><td>9/14/2019                   </td><td>Andreas Michail             </td><td>736 22ND STREET NORTHWEST   </td><td>301 MADISON HALL            </td><td>...                         </td><td>Shipped                     </td><td>USPS(9361289721009094150697)</td><td>$29.90                      </td><td>$9.89                       </td><td>$2.38                       </td><td>$0.00                       </td><td>$2.38                       </td><td>$42.17                      </td><td>Andreas Michail             </td><td>NA                          </td></tr>\n",
       "\t<tr><td>9/27/2019                   </td><td>113-2883359-5973033         </td><td>Visa - 1148                 </td><td>Amazon.com                  </td><td>NA                          </td><td>michail.andreas01@gmail.com </td><td>10/2/2019                   </td><td>Andreas Michail             </td><td>736 22ND STREET NORTHWEST   </td><td>301 MADISON HALL            </td><td>...                         </td><td>Shipped                     </td><td>UPS(1Z97516A0317753492)     </td><td>$21.86                      </td><td>$5.99                       </td><td>$1.67                       </td><td>$0.00                       </td><td>$1.67                       </td><td>$29.52                      </td><td>Andreas Michail             </td><td>NA                          </td></tr>\n",
       "\t<tr><td>1/8/2021                    </td><td>112-0562863-3285820         </td><td>MasterCard - 7001           </td><td>Amazon.com                  </td><td>NA                          </td><td>michail.andreas01@gmail.com </td><td>1/12/2021                   </td><td>Andreas Michail             </td><td>Eleftheriou Venizelou 49    </td><td>                            </td><td>...                         </td><td>Shipped                     </td><td>DHL(4290582111)             </td><td>$266.94                     </td><td>$10.64                      </td><td>$0.00                       </td><td>$0.00                       </td><td>$0.00                       </td><td>$295.63                     </td><td>Andreas Michail             </td><td>NA                          </td></tr>\n",
       "\t<tr><td>1/8/2021                    </td><td>112-0562863-3285820         </td><td>MasterCard - 7001           </td><td>Amazon.com                  </td><td>NA                          </td><td>michail.andreas01@gmail.com </td><td>1/13/2021                   </td><td>Andreas Michail             </td><td>Eleftheriou Venizelou 49    </td><td>                            </td><td>...                         </td><td>Shipped                     </td><td>ARAMEX(1834617212)          </td><td>$122.95                     </td><td>$5.32                       </td><td>$0.00                       </td><td>$0.00                       </td><td>$0.00                       </td><td>$136.57                     </td><td>Andreas Michail             </td><td>NA                          </td></tr>\n",
       "\t<tr><td>8/20/2021                   </td><td>113-1480664-8917059         </td><td>MasterCard - 7001           </td><td>Amazon.com                  </td><td>NA                          </td><td>michail.andreas01@gmail.com </td><td>8/24/2021                   </td><td>Andreas Michail             </td><td>616 23RD ST NW              </td><td>0401 SHENKMAN HALL          </td><td>...                         </td><td>Shipped                     </td><td>UPS(1Z06RF390339235120)     </td><td>$256.71                     </td><td>$3.99                       </td><td>$15.64                      </td><td>$0.00                       </td><td>$15.64                      </td><td>$276.34                     </td><td>Andreas Michail             </td><td>NA                          </td></tr>\n",
       "\t<tr><td>8/23/2021                   </td><td>113-2879861-7074626         </td><td>Visa - 1148                 </td><td>Amazon.com                  </td><td>NA                          </td><td>michail.andreas01@gmail.com </td><td>8/27/2021                   </td><td>Andreas Michail             </td><td>616 23RD ST NW              </td><td>0401 SHENKMAN HALL          </td><td>...                         </td><td>Shipped                     </td><td>USPS(9374889721009687853260)</td><td>$25.98                      </td><td>$0.00                       </td><td>$1.36                       </td><td>$3.25                       </td><td>$1.36                       </td><td>$24.09                      </td><td>Andreas Michail             </td><td>NA                          </td></tr>\n",
       "</tbody>\n",
       "</table>\n"
      ],
      "text/latex": [
       "\\begin{tabular}{r|lllllllllllllllllllllll}\n",
       " Order.Date & Order.ID & Payment.Instrument.Type & Website & Purchase.Order.Number & Ordering.Customer.Email & Shipment.Date & Shipping.Address.Name & Shipping.Address.Street.1 & Shipping.Address.Street.2 & ... & Order.Status & Carrier.Name...Tracking.Number & Subtotal & Shipping.Charge & Tax.Before.Promotions & Total.Promotions & Tax.Charged & Total.Charged & Buyer.Name & Group.Name\\\\\n",
       "\\hline\n",
       "\t 9/13/2019                    & 114-5553364-8799441          & Visa - 1148                  & Amazon.com                   & NA                           & michail.andreas01@gmail.com  & 9/14/2019                    & Andreas Michail              & 736 22ND STREET NORTHWEST    & 301 MADISON HALL             & ...                          & Shipped                      & USPS(9361289721009094150697) & \\$29.90                     & \\$9.89                      & \\$2.38                      & \\$0.00                      & \\$2.38                      & \\$42.17                     & Andreas Michail              & NA                          \\\\\n",
       "\t 9/27/2019                    & 113-2883359-5973033          & Visa - 1148                  & Amazon.com                   & NA                           & michail.andreas01@gmail.com  & 10/2/2019                    & Andreas Michail              & 736 22ND STREET NORTHWEST    & 301 MADISON HALL             & ...                          & Shipped                      & UPS(1Z97516A0317753492)      & \\$21.86                     & \\$5.99                      & \\$1.67                      & \\$0.00                      & \\$1.67                      & \\$29.52                     & Andreas Michail              & NA                          \\\\\n",
       "\t 1/8/2021                     & 112-0562863-3285820          & MasterCard - 7001            & Amazon.com                   & NA                           & michail.andreas01@gmail.com  & 1/12/2021                    & Andreas Michail              & Eleftheriou Venizelou 49     &                              & ...                          & Shipped                      & DHL(4290582111)              & \\$266.94                    & \\$10.64                     & \\$0.00                      & \\$0.00                      & \\$0.00                      & \\$295.63                    & Andreas Michail              & NA                          \\\\\n",
       "\t 1/8/2021                     & 112-0562863-3285820          & MasterCard - 7001            & Amazon.com                   & NA                           & michail.andreas01@gmail.com  & 1/13/2021                    & Andreas Michail              & Eleftheriou Venizelou 49     &                              & ...                          & Shipped                      & ARAMEX(1834617212)           & \\$122.95                    & \\$5.32                      & \\$0.00                      & \\$0.00                      & \\$0.00                      & \\$136.57                    & Andreas Michail              & NA                          \\\\\n",
       "\t 8/20/2021                    & 113-1480664-8917059          & MasterCard - 7001            & Amazon.com                   & NA                           & michail.andreas01@gmail.com  & 8/24/2021                    & Andreas Michail              & 616 23RD ST NW               & 0401 SHENKMAN HALL           & ...                          & Shipped                      & UPS(1Z06RF390339235120)      & \\$256.71                    & \\$3.99                      & \\$15.64                     & \\$0.00                      & \\$15.64                     & \\$276.34                    & Andreas Michail              & NA                          \\\\\n",
       "\t 8/23/2021                    & 113-2879861-7074626          & Visa - 1148                  & Amazon.com                   & NA                           & michail.andreas01@gmail.com  & 8/27/2021                    & Andreas Michail              & 616 23RD ST NW               & 0401 SHENKMAN HALL           & ...                          & Shipped                      & USPS(9374889721009687853260) & \\$25.98                     & \\$0.00                      & \\$1.36                      & \\$3.25                      & \\$1.36                      & \\$24.09                     & Andreas Michail              & NA                          \\\\\n",
       "\\end{tabular}\n"
      ],
      "text/markdown": [
       "\n",
       "| Order.Date | Order.ID | Payment.Instrument.Type | Website | Purchase.Order.Number | Ordering.Customer.Email | Shipment.Date | Shipping.Address.Name | Shipping.Address.Street.1 | Shipping.Address.Street.2 | ... | Order.Status | Carrier.Name...Tracking.Number | Subtotal | Shipping.Charge | Tax.Before.Promotions | Total.Promotions | Tax.Charged | Total.Charged | Buyer.Name | Group.Name |\n",
       "|---|---|---|---|---|---|---|---|---|---|---|---|---|---|---|---|---|---|---|---|---|\n",
       "| 9/13/2019                    | 114-5553364-8799441          | Visa - 1148                  | Amazon.com                   | NA                           | michail.andreas01@gmail.com  | 9/14/2019                    | Andreas Michail              | 736 22ND STREET NORTHWEST    | 301 MADISON HALL             | ...                          | Shipped                      | USPS(9361289721009094150697) | $29.90                       | $9.89                        | $2.38                        | $0.00                        | $2.38                        | $42.17                       | Andreas Michail              | NA                           |\n",
       "| 9/27/2019                    | 113-2883359-5973033          | Visa - 1148                  | Amazon.com                   | NA                           | michail.andreas01@gmail.com  | 10/2/2019                    | Andreas Michail              | 736 22ND STREET NORTHWEST    | 301 MADISON HALL             | ...                          | Shipped                      | UPS(1Z97516A0317753492)      | $21.86                       | $5.99                        | $1.67                        | $0.00                        | $1.67                        | $29.52                       | Andreas Michail              | NA                           |\n",
       "| 1/8/2021                     | 112-0562863-3285820          | MasterCard - 7001            | Amazon.com                   | NA                           | michail.andreas01@gmail.com  | 1/12/2021                    | Andreas Michail              | Eleftheriou Venizelou 49     |                              | ...                          | Shipped                      | DHL(4290582111)              | $266.94                      | $10.64                       | $0.00                        | $0.00                        | $0.00                        | $295.63                      | Andreas Michail              | NA                           |\n",
       "| 1/8/2021                     | 112-0562863-3285820          | MasterCard - 7001            | Amazon.com                   | NA                           | michail.andreas01@gmail.com  | 1/13/2021                    | Andreas Michail              | Eleftheriou Venizelou 49     |                              | ...                          | Shipped                      | ARAMEX(1834617212)           | $122.95                      | $5.32                        | $0.00                        | $0.00                        | $0.00                        | $136.57                      | Andreas Michail              | NA                           |\n",
       "| 8/20/2021                    | 113-1480664-8917059          | MasterCard - 7001            | Amazon.com                   | NA                           | michail.andreas01@gmail.com  | 8/24/2021                    | Andreas Michail              | 616 23RD ST NW               | 0401 SHENKMAN HALL           | ...                          | Shipped                      | UPS(1Z06RF390339235120)      | $256.71                      | $3.99                        | $15.64                       | $0.00                        | $15.64                       | $276.34                      | Andreas Michail              | NA                           |\n",
       "| 8/23/2021                    | 113-2879861-7074626          | Visa - 1148                  | Amazon.com                   | NA                           | michail.andreas01@gmail.com  | 8/27/2021                    | Andreas Michail              | 616 23RD ST NW               | 0401 SHENKMAN HALL           | ...                          | Shipped                      | USPS(9374889721009687853260) | $25.98                       | $0.00                        | $1.36                        | $3.25                        | $1.36                        | $24.09                       | Andreas Michail              | NA                           |\n",
       "\n"
      ],
      "text/plain": [
       "  Order.Date Order.ID            Payment.Instrument.Type Website   \n",
       "1 9/13/2019  114-5553364-8799441 Visa - 1148             Amazon.com\n",
       "2 9/27/2019  113-2883359-5973033 Visa - 1148             Amazon.com\n",
       "3 1/8/2021   112-0562863-3285820 MasterCard - 7001       Amazon.com\n",
       "4 1/8/2021   112-0562863-3285820 MasterCard - 7001       Amazon.com\n",
       "5 8/20/2021  113-1480664-8917059 MasterCard - 7001       Amazon.com\n",
       "6 8/23/2021  113-2879861-7074626 Visa - 1148             Amazon.com\n",
       "  Purchase.Order.Number Ordering.Customer.Email     Shipment.Date\n",
       "1 NA                    michail.andreas01@gmail.com 9/14/2019    \n",
       "2 NA                    michail.andreas01@gmail.com 10/2/2019    \n",
       "3 NA                    michail.andreas01@gmail.com 1/12/2021    \n",
       "4 NA                    michail.andreas01@gmail.com 1/13/2021    \n",
       "5 NA                    michail.andreas01@gmail.com 8/24/2021    \n",
       "6 NA                    michail.andreas01@gmail.com 8/27/2021    \n",
       "  Shipping.Address.Name Shipping.Address.Street.1 Shipping.Address.Street.2 ...\n",
       "1 Andreas Michail       736 22ND STREET NORTHWEST 301 MADISON HALL          ...\n",
       "2 Andreas Michail       736 22ND STREET NORTHWEST 301 MADISON HALL          ...\n",
       "3 Andreas Michail       Eleftheriou Venizelou 49                            ...\n",
       "4 Andreas Michail       Eleftheriou Venizelou 49                            ...\n",
       "5 Andreas Michail       616 23RD ST NW            0401 SHENKMAN HALL        ...\n",
       "6 Andreas Michail       616 23RD ST NW            0401 SHENKMAN HALL        ...\n",
       "  Order.Status Carrier.Name...Tracking.Number Subtotal Shipping.Charge\n",
       "1 Shipped      USPS(9361289721009094150697)   $29.90   $9.89          \n",
       "2 Shipped      UPS(1Z97516A0317753492)        $21.86   $5.99          \n",
       "3 Shipped      DHL(4290582111)                $266.94  $10.64         \n",
       "4 Shipped      ARAMEX(1834617212)             $122.95  $5.32          \n",
       "5 Shipped      UPS(1Z06RF390339235120)        $256.71  $3.99          \n",
       "6 Shipped      USPS(9374889721009687853260)   $25.98   $0.00          \n",
       "  Tax.Before.Promotions Total.Promotions Tax.Charged Total.Charged\n",
       "1 $2.38                 $0.00            $2.38       $42.17       \n",
       "2 $1.67                 $0.00            $1.67       $29.52       \n",
       "3 $0.00                 $0.00            $0.00       $295.63      \n",
       "4 $0.00                 $0.00            $0.00       $136.57      \n",
       "5 $15.64                $0.00            $15.64      $276.34      \n",
       "6 $1.36                 $3.25            $1.36       $24.09       \n",
       "  Buyer.Name      Group.Name\n",
       "1 Andreas Michail NA        \n",
       "2 Andreas Michail NA        \n",
       "3 Andreas Michail NA        \n",
       "4 Andreas Michail NA        \n",
       "5 Andreas Michail NA        \n",
       "6 Andreas Michail NA        "
      ]
     },
     "metadata": {},
     "output_type": "display_data"
    }
   ],
   "source": [
    "ff = read.csv('C:/Users/micha/Downloads/Computing Midterm Project/amazon-orders.csv')\n",
    "head(ff)"
   ]
  },
  {
   "cell_type": "code",
   "execution_count": 9,
   "id": "d54aab55",
   "metadata": {},
   "outputs": [
    {
     "data": {
      "text/html": [
       "<ol class=list-inline>\n",
       "\t<li>15</li>\n",
       "\t<li>23</li>\n",
       "</ol>\n"
      ],
      "text/latex": [
       "\\begin{enumerate*}\n",
       "\\item 15\n",
       "\\item 23\n",
       "\\end{enumerate*}\n"
      ],
      "text/markdown": [
       "1. 15\n",
       "2. 23\n",
       "\n",
       "\n"
      ],
      "text/plain": [
       "[1] 15 23"
      ]
     },
     "metadata": {},
     "output_type": "display_data"
    }
   ],
   "source": [
    "dim(ff)"
   ]
  },
  {
   "cell_type": "code",
   "execution_count": 10,
   "id": "e9724e74",
   "metadata": {},
   "outputs": [
    {
     "data": {
      "text/plain": [
       "      Order.Date                Order.ID      Payment.Instrument.Type\n",
       " 8/23/2021 :4    113-2879861-7074626:3   MasterCard - 2039:3         \n",
       " 1/8/2021  :2    112-0562863-3285820:2   MasterCard - 5016:1         \n",
       " 10/4/2021 :2    111-9316923-7813839:1   MasterCard - 7001:4         \n",
       " 1/14/2022 :1    112-0955046-4092211:1   Visa - 1148      :7         \n",
       " 11/13/2021:1    112-0967255-1672236:1                               \n",
       " 11/28/2021:1    112-3100825-7207417:1                               \n",
       " (Other)   :4    (Other)            :6                               \n",
       "       Website   Purchase.Order.Number                Ordering.Customer.Email\n",
       " Amazon.com:15   Mode:logical          michail.andreas01@gmail.com:15        \n",
       "                 NA's:15                                                     \n",
       "                                                                             \n",
       "                                                                             \n",
       "                                                                             \n",
       "                                                                             \n",
       "                                                                             \n",
       "   Shipment.Date     Shipping.Address.Name\n",
       " 8/27/2021:3     Andreas Michail:15       \n",
       " 10/5/2021:2                              \n",
       " 1/12/2021:1                              \n",
       " 1/13/2021:1                              \n",
       " 1/15/2022:1                              \n",
       " 10/2/2019:1                              \n",
       " (Other)  :6                              \n",
       "             Shipping.Address.Street.1      Shipping.Address.Street.2\n",
       " 616 23RD ST NW           :11                            : 2         \n",
       " 736 22ND STREET NORTHWEST: 2          0401 SHENKMAN HALL:11         \n",
       " Eleftheriou Venizelou 49 : 2          301 MADISON HALL  : 2         \n",
       "                                                                     \n",
       "                                                                     \n",
       "                                                                     \n",
       "                                                                     \n",
       "  Shipping.Address.City Shipping.Address.State Shipping.Address.Zip\n",
       " Voula Athens: 2        Attica: 2              Min.   :16673       \n",
       " WASHINGTON  :13        DC    :13              1st Qu.:20052       \n",
       "                                               Median :20052       \n",
       "                                               Mean   :19601       \n",
       "                                               3rd Qu.:20052       \n",
       "                                               Max.   :20052       \n",
       "                                                                   \n",
       "  Order.Status              Carrier.Name...Tracking.Number     Subtotal\n",
       " Shipped:15    USPS(9374889721006272926606):2              $12.99  :2  \n",
       "               ARAMEX(1834617212)          :1              $122.95 :1  \n",
       "               DHL(4290582111)             :1              $14.97  :1  \n",
       "               UPS(1Z06RF390339235120)     :1              $15.99  :1  \n",
       "               UPS(1Z97516A0317753492)     :1              $189.99 :1  \n",
       "               USPS(9341989721004730896279):1              $21.86  :1  \n",
       "               (Other)                     :8              (Other) :8  \n",
       " Shipping.Charge Tax.Before.Promotions Total.Promotions  Tax.Charged\n",
       " $0.00  :10      $0.00  :2             $0.00 :14        $0.00  :2   \n",
       " $10.64 : 1      $0.78  :2             $3.25 : 1        $0.78  :2   \n",
       " $3.99  : 1      $0.90  :1                              $0.90  :1   \n",
       " $5.32  : 1      $0.96  :1                              $0.96  :1   \n",
       " $5.99  : 1      $1.36  :1                              $1.36  :1   \n",
       " $9.89  : 1      $1.67  :1                              $1.67  :1   \n",
       "                 (Other):7                              (Other):7   \n",
       "  Total.Charged           Buyer.Name Group.Name    \n",
       " $13.77  :2     Andreas Michail:15   Mode:logical  \n",
       " $100.69 :1                          NA's:15       \n",
       " $136.57 :1                                        \n",
       " $15.87  :1                                        \n",
       " $16.95  :1                                        \n",
       " $201.39 :1                                        \n",
       " (Other) :8                                        "
      ]
     },
     "metadata": {},
     "output_type": "display_data"
    }
   ],
   "source": [
    "summary(ff)"
   ]
  },
  {
   "cell_type": "code",
   "execution_count": 11,
   "id": "007e2563",
   "metadata": {},
   "outputs": [
    {
     "data": {
      "text/html": [
       "804.32"
      ],
      "text/latex": [
       "804.32"
      ],
      "text/markdown": [
       "804.32"
      ],
      "text/plain": [
       "[1] 804.32"
      ]
     },
     "metadata": {},
     "output_type": "display_data"
    }
   ],
   "source": [
    "#Sum of Purchases\n",
    "sum(c(42.17, 29.52, 295.63, 136.57, 276.34, 24.09))"
   ]
  },
  {
   "cell_type": "code",
   "execution_count": 12,
   "id": "4c63a58e",
   "metadata": {},
   "outputs": [
    {
     "data": {
      "text/html": [
       "295.63"
      ],
      "text/latex": [
       "295.63"
      ],
      "text/markdown": [
       "295.63"
      ],
      "text/plain": [
       "[1] 295.63"
      ]
     },
     "metadata": {},
     "output_type": "display_data"
    }
   ],
   "source": [
    "#Maximum Purchase\n",
    "max(c(42.17, 29.52, 295.63, 136.57, 276.34, 24.09))"
   ]
  },
  {
   "cell_type": "code",
   "execution_count": 13,
   "id": "85e933da",
   "metadata": {},
   "outputs": [
    {
     "data": {
      "text/html": [
       "24.09"
      ],
      "text/latex": [
       "24.09"
      ],
      "text/markdown": [
       "24.09"
      ],
      "text/plain": [
       "[1] 24.09"
      ]
     },
     "metadata": {},
     "output_type": "display_data"
    }
   ],
   "source": [
    "#Minimum Purchase\n",
    "min(c(42.17, 29.52, 295.63, 136.57, 276.34, 24.09))"
   ]
  },
  {
   "cell_type": "code",
   "execution_count": 14,
   "id": "d0dd39e0",
   "metadata": {},
   "outputs": [
    {
     "data": {
      "text/html": [
       "134.053333333333"
      ],
      "text/latex": [
       "134.053333333333"
      ],
      "text/markdown": [
       "134.053333333333"
      ],
      "text/plain": [
       "[1] 134.0533"
      ]
     },
     "metadata": {},
     "output_type": "display_data"
    }
   ],
   "source": [
    "#Average Amount per Purchase\n",
    "mean(c(42.17, 29.52, 295.63, 136.57, 276.34, 24.09))"
   ]
  },
  {
   "cell_type": "code",
   "execution_count": 15,
   "id": "5cb63318",
   "metadata": {},
   "outputs": [
    {
     "data": {
      "image/png": "[encoded data removed]",
      "text/plain": [
       "plot without title"
      ]
     },
     "metadata": {},
     "output_type": "display_data"
    }
   ],
   "source": [
    "#Graphical Analysis\n",
    "\n",
    "#Plot Bar Chart from Amazon Orders\n",
    "x <- c(2019, 2020, 2021, 2022)\n",
    "y <- c(71.69, 0, 732.63, 0)\n",
    "barplot(y, names.arg = x)"
   ]
  },
  {
   "cell_type": "code",
   "execution_count": 16,
   "id": "c5513734",
   "metadata": {},
   "outputs": [
    {
     "data": {
      "image/png": "[encoded data removed]",
      "text/plain": [
       "Plot with title \"Yearly Consumption\""
      ]
     },
     "metadata": {},
     "output_type": "display_data"
    }
   ],
   "source": [
    "#Pie Chart for Consumption per Year\n",
    "\n",
    "#Create a vector of pies\n",
    "x <- c(71.69, 0, 732.63, 0)\n",
    "\n",
    "#Create a vector of labels\n",
    "mylabels <- c(2019, 2020, 2021, 2022)\n",
    "\n",
    "#Create a vector of colors\n",
    "mycolors <- c('green', 'purple', 'blue', 'black')\n",
    "\n",
    "#Show pie chart\n",
    "pie(x, label=mylabels, main='Yearly Consumption', col=mycolors)"
   ]
  }
 ],
 "metadata": {
  "kernelspec": {
   "display_name": "R",
   "language": "R",
   "name": "ir"
  },
  "language_info": {
   "codemirror_mode": "r",
   "file_extension": ".r",
   "mimetype": "text/x-r-source",
   "name": "R",
   "pygments_lexer": "r",
   "version": "3.6.1"
  }
 },
 "nbformat": 4,
 "nbformat_minor": 5
}
