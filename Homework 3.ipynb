{
 "cells": [
  {
   "cell_type": "code",
   "execution_count": null,
   "id": "d41aef3c",
   "metadata": {},
   "outputs": [],
   "source": [
    "Exercise 1"
   ]
  },
  {
   "cell_type": "code",
   "execution_count": 15,
   "id": "29a14646",
   "metadata": {},
   "outputs": [
    {
     "name": "stdout",
     "output_type": "stream",
     "text": [
      "88\n",
      "66\n",
      "90\n",
      "55\n",
      "77\n",
      "Can't find this student's name\n"
     ]
    }
   ],
   "source": [
    "def dictionary(marks):\n",
    "    for k in marks:\n",
    "        print(marks[k])\n",
    "    else:\n",
    "        print(\"Can't find this student's name\")\n",
    "dictionary({'Andy': 88, 'Amy': 66, 'James': 90, 'Jules': 55, 'Arthur': 77})"
   ]
  },
  {
   "cell_type": "code",
   "execution_count": 8,
   "id": "1d149ebc",
   "metadata": {},
   "outputs": [
    {
     "name": "stdout",
     "output_type": "stream",
     "text": [
      "75.2\n"
     ]
    }
   ],
   "source": [
    "marks = {'Andy': 88, 'Amy': 66, 'James': 90, 'Jules': 55, 'Arthur': 77}\n",
    "def student_average():\n",
    "    total_grade = 0\n",
    "    for grades in marks.values():\n",
    "        total_grade += grades\n",
    "    mean = total_grade / len(marks.values())\n",
    "    return mean\n",
    "print(student_average())"
   ]
  },
  {
   "cell_type": "code",
   "execution_count": null,
   "id": "56c3a724",
   "metadata": {},
   "outputs": [],
   "source": [
    "Exercise 2"
   ]
  },
  {
   "cell_type": "code",
   "execution_count": 16,
   "id": "c93bcf5c",
   "metadata": {},
   "outputs": [
    {
     "name": "stdout",
     "output_type": "stream",
     "text": [
      "0 : 0.0\n",
      "1 : 1.0\n",
      "2 : 1.4142135623730951\n",
      "3 : 1.7320508075688772\n",
      "4 : 2.0\n",
      "5 : 2.23606797749979\n",
      "6 : 2.449489742783178\n",
      "7 : 2.6457513110645907\n",
      "Greater than 8\n"
     ]
    }
   ],
   "source": [
    "def printout(num):\n",
    "    n = 0\n",
    "    while n < num:\n",
    "        import math\n",
    "        print(n, \":\", math.sqrt(n))\n",
    "        n += 1\n",
    "    else:\n",
    "        print(\"Greater than\", num)\n",
    "printout(8)"
   ]
  },
  {
   "cell_type": "code",
   "execution_count": null,
   "id": "85ee7e4b",
   "metadata": {},
   "outputs": [],
   "source": [
    "Exercise 3"
   ]
  },
  {
   "cell_type": "code",
   "execution_count": 17,
   "id": "633a3fa5",
   "metadata": {},
   "outputs": [
    {
     "name": "stdout",
     "output_type": "stream",
     "text": [
      "465\n"
     ]
    }
   ],
   "source": [
    "def sumfunction(num):\n",
    "    n = 1\n",
    "    sum = 0\n",
    "    while n <= num:\n",
    "        sum = sum + n\n",
    "        n += 1\n",
    "    print(sum)\n",
    "sumfunction(30)\n",
    "        "
   ]
  },
  {
   "cell_type": "code",
   "execution_count": null,
   "id": "90a686ef",
   "metadata": {},
   "outputs": [],
   "source": [
    "Exercise 4"
   ]
  },
  {
   "cell_type": "code",
   "execution_count": 18,
   "id": "a2a7f162",
   "metadata": {},
   "outputs": [
    {
     "name": "stdout",
     "output_type": "stream",
     "text": [
      "0\n",
      "1\n",
      "3\n",
      "6\n",
      "10\n",
      "15\n",
      "21\n",
      "28\n",
      "36\n",
      "45\n",
      "55\n",
      "66\n",
      "78\n",
      "91\n",
      "105\n",
      "120\n",
      "136\n",
      "153\n",
      "171\n",
      "190\n",
      "210\n",
      "231\n",
      "253\n",
      "276\n",
      "300\n",
      "325\n",
      "351\n",
      "378\n",
      "406\n",
      "435\n",
      "465\n"
     ]
    }
   ],
   "source": [
    "def sum_function(num):\n",
    "    sum = 0\n",
    "    for n in range(num):\n",
    "        sum = sum + n\n",
    "        print(sum)\n",
    "sum_function(31)"
   ]
  },
  {
   "cell_type": "code",
   "execution_count": null,
   "id": "a3c2e25b",
   "metadata": {},
   "outputs": [],
   "source": [
    "Exercise 5"
   ]
  },
  {
   "cell_type": "code",
   "execution_count": 19,
   "id": "1824d2a2",
   "metadata": {},
   "outputs": [
    {
     "name": "stdout",
     "output_type": "stream",
     "text": [
      "Sum : 4950\n",
      "Mean : 50\n",
      "Standard Deviation : 28.577380332470412\n"
     ]
    }
   ],
   "source": [
    "def f(num):\n",
    "    sum = 0\n",
    "    for i in range(num):\n",
    "        sum = sum + i\n",
    "    print(\"Sum :\", sum)\n",
    "    num = range(1, 100)\n",
    "    import statistics as stats\n",
    "    stats.mean(num)\n",
    "    print(\"Mean :\", stats.mean(num))\n",
    "    stats.pstdev(num)\n",
    "    print(\"Standard Deviation :\", stats.pstdev(num))\n",
    "f(100)"
   ]
  },
  {
   "cell_type": "code",
   "execution_count": null,
   "id": "8c0e03b3",
   "metadata": {},
   "outputs": [],
   "source": [
    "Exercise 6"
   ]
  },
  {
   "cell_type": "code",
   "execution_count": 11,
   "id": "c34edb87",
   "metadata": {},
   "outputs": [
    {
     "data": {
      "text/plain": [
       "5"
      ]
     },
     "execution_count": 11,
     "metadata": {},
     "output_type": "execute_result"
    }
   ],
   "source": [
    "def minimum(value1, value2, value3, value4):\n",
    "    min_value = value1\n",
    "    if value2 < min_value:\n",
    "        min_value = value2\n",
    "    if value3 < min_value:\n",
    "        min_value = value3\n",
    "    if value4 < min_value:\n",
    "        min_value = value4\n",
    "    return min_value\n",
    "minimum(80, 50, 20, 5)"
   ]
  },
  {
   "cell_type": "code",
   "execution_count": 14,
   "id": "0ff5d4ca",
   "metadata": {},
   "outputs": [
    {
     "data": {
      "text/plain": [
       "13"
      ]
     },
     "execution_count": 14,
     "metadata": {},
     "output_type": "execute_result"
    }
   ],
   "source": [
    "def minimum(value1, value2, value3, value4):\n",
    "    min_value = value1\n",
    "    if value2 < min_value:\n",
    "        min_value = value2\n",
    "    if value3 < min_value:\n",
    "        min_value = value3\n",
    "    if value4 < min_value:\n",
    "        min_value = value4\n",
    "    return min_value\n",
    "\n",
    "def minimum2(*args):\n",
    "    return minimum(*args)\n",
    "\n",
    "minimum2(13, 65, 90, 34)"
   ]
  }
 ],
 "metadata": {
  "kernelspec": {
   "display_name": "Python 3 (ipykernel)",
   "language": "python",
   "name": "python3"
  },
  "language_info": {
   "codemirror_mode": {
    "name": "ipython",
    "version": 3
   },
   "file_extension": ".py",
   "mimetype": "text/x-python",
   "name": "python",
   "nbconvert_exporter": "python",
   "pygments_lexer": "ipython3",
   "version": "3.9.7"
  }
 },
 "nbformat": 4,
 "nbformat_minor": 5
}
