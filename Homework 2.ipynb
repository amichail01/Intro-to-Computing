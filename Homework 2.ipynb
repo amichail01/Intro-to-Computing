{
 "cells": [
  {
   "cell_type": "code",
   "execution_count": null,
   "id": "b01a0f99",
   "metadata": {},
   "outputs": [],
   "source": [
    "Exercise 1"
   ]
  },
  {
   "cell_type": "code",
   "execution_count": 4,
   "id": "d12f7322",
   "metadata": {},
   "outputs": [
    {
     "name": "stdout",
     "output_type": "stream",
     "text": [
      "0\n",
      "1\n",
      "2\n",
      "3\n",
      "4\n"
     ]
    }
   ],
   "source": [
    "n = 0\n",
    "while n < 10:\n",
    "    if n == 5:\n",
    "        break\n",
    "    print(n)\n",
    "    n += 1"
   ]
  },
  {
   "cell_type": "code",
   "execution_count": null,
   "id": "7ad3d92f",
   "metadata": {},
   "outputs": [],
   "source": [
    "Exercise 2"
   ]
  },
  {
   "cell_type": "code",
   "execution_count": 5,
   "id": "1b5dbdf1",
   "metadata": {},
   "outputs": [
    {
     "name": "stdout",
     "output_type": "stream",
     "text": [
      "0\n",
      "1\n",
      "2\n",
      "3\n",
      "4\n",
      "5 is not less than 5\n"
     ]
    }
   ],
   "source": [
    "n = 0\n",
    "while n < 5:\n",
    "    print(n)\n",
    "    n += 1\n",
    "else:\n",
    "    print(n, \"is not less than 5\")"
   ]
  },
  {
   "cell_type": "code",
   "execution_count": null,
   "id": "c80253fd",
   "metadata": {},
   "outputs": [],
   "source": [
    "Exercise 3"
   ]
  },
  {
   "cell_type": "code",
   "execution_count": 3,
   "id": "ab37d4c0",
   "metadata": {},
   "outputs": [
    {
     "name": "stdout",
     "output_type": "stream",
     "text": [
      "I like banana\n",
      "I like orange\n",
      "Is apple really a fruit?\n"
     ]
    }
   ],
   "source": [
    "fruitList = [\"banana\", \"orange\", \"apple\"]\n",
    "for fruit in fruitList:\n",
    "    if(fruit==\"apple\"):\n",
    "        print(\"Is apple really a fruit?\")\n",
    "        break\n",
    "    print(\"I like\", fruit)"
   ]
  },
  {
   "cell_type": "code",
   "execution_count": null,
   "id": "d782eea3",
   "metadata": {},
   "outputs": [],
   "source": [
    "Exercise 4"
   ]
  },
  {
   "cell_type": "code",
   "execution_count": 7,
   "id": "f8bd9092",
   "metadata": {},
   "outputs": [
    {
     "name": "stdout",
     "output_type": "stream",
     "text": [
      "465\n"
     ]
    }
   ],
   "source": [
    "sum = 0\n",
    "k = 1\n",
    "n = 30\n",
    "while k <= n:\n",
    "    sum = sum +k\n",
    "    k += 1\n",
    "print(sum)"
   ]
  },
  {
   "cell_type": "code",
   "execution_count": null,
   "id": "6bc63bc1",
   "metadata": {},
   "outputs": [],
   "source": [
    "Exercise 5"
   ]
  },
  {
   "cell_type": "code",
   "execution_count": 16,
   "id": "659dd5fe",
   "metadata": {},
   "outputs": [
    {
     "name": "stdout",
     "output_type": "stream",
     "text": [
      "The letter grade is D\n"
     ]
    }
   ],
   "source": [
    "grade = 69\n",
    "if (grade >= 90):\n",
    "    print(\"The letter grade is A\")\n",
    "elif (grade > 80):\n",
    "    print(\"The letter grade is B\")\n",
    "elif (grade >= 70):\n",
    "    print(\"The letter grade is C\")\n",
    "elif (grade >= 60):\n",
    "    print(\"The letter grade is D\")\n",
    "else:\n",
    "    print(\"The letter grade is F\")"
   ]
  },
  {
   "cell_type": "code",
   "execution_count": null,
   "id": "aab48692",
   "metadata": {},
   "outputs": [],
   "source": [
    "Exercise 6"
   ]
  },
  {
   "cell_type": "code",
   "execution_count": 126,
   "id": "88cfcded",
   "metadata": {},
   "outputs": [
    {
     "name": "stdout",
     "output_type": "stream",
     "text": [
      "Andy : 88\n",
      "Amy : 66\n",
      "James : 90\n",
      "Jules : 55\n",
      "Arthur : 77\n"
     ]
    }
   ],
   "source": [
    "marks = {\"Andy\": 88, \"Amy\": 66, \"James\": 90, \"Jules\": 55, \"Arthur\": 77}\n",
    "for k, v in marks.items():\n",
    "    print(k, \":\", v)"
   ]
  },
  {
   "cell_type": "code",
   "execution_count": 128,
   "id": "724a5732",
   "metadata": {},
   "outputs": [
    {
     "name": "stdout",
     "output_type": "stream",
     "text": [
      "75.2\n",
      "90\n",
      "55\n"
     ]
    }
   ],
   "source": [
    "sum = 0\n",
    "for v in marks.values():\n",
    "    sum += v\n",
    "average = sum / len(marks)\n",
    "print(average)\n",
    "print(max(marks.values()))\n",
    "print(min(marks.values()))"
   ]
  },
  {
   "cell_type": "code",
   "execution_count": 129,
   "id": "32a6626d",
   "metadata": {},
   "outputs": [
    {
     "name": "stdout",
     "output_type": "stream",
     "text": [
      "Andy\n",
      "Amy\n"
     ]
    }
   ],
   "source": [
    "for k in marks:\n",
    "    if \"J\" in k:\n",
    "        break\n",
    "    print(k)"
   ]
  },
  {
   "cell_type": "code",
   "execution_count": 130,
   "id": "c2fdba01",
   "metadata": {},
   "outputs": [
    {
     "name": "stdout",
     "output_type": "stream",
     "text": [
      "Andy\n",
      "Amy\n",
      "Arthur\n"
     ]
    }
   ],
   "source": [
    "for k in marks:\n",
    "    if \"J\" in k:\n",
    "        continue\n",
    "    print(k)"
   ]
  }
 ],
 "metadata": {
  "kernelspec": {
   "display_name": "Python 3 (ipykernel)",
   "language": "python",
   "name": "python3"
  },
  "language_info": {
   "codemirror_mode": {
    "name": "ipython",
    "version": 3
   },
   "file_extension": ".py",
   "mimetype": "text/x-python",
   "name": "python",
   "nbconvert_exporter": "python",
   "pygments_lexer": "ipython3",
   "version": "3.9.7"
  }
 },
 "nbformat": 4,
 "nbformat_minor": 5
}
