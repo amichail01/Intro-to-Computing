{
 "cells": [
  {
   "cell_type": "code",
   "execution_count": null,
   "id": "b22c43d5",
   "metadata": {},
   "outputs": [],
   "source": [
    "Exercise 1"
   ]
  },
  {
   "cell_type": "code",
   "execution_count": null,
   "id": "7e2873e6",
   "metadata": {},
   "outputs": [],
   "source": [
    "import numpy as np"
   ]
  },
  {
   "cell_type": "code",
   "execution_count": 10,
   "id": "ff9e0ec0",
   "metadata": {},
   "outputs": [],
   "source": [
    "numbers = np.array([[1, 2, 3, 4], [5, 6, 7, 8], [9, 10, 11, 12]])"
   ]
  },
  {
   "cell_type": "code",
   "execution_count": 11,
   "id": "19c65f4e",
   "metadata": {},
   "outputs": [
    {
     "data": {
      "text/plain": [
       "array([[ 1,  2,  3,  4],\n",
       "       [ 5,  6,  7,  8],\n",
       "       [ 9, 10, 11, 12]])"
      ]
     },
     "execution_count": 11,
     "metadata": {},
     "output_type": "execute_result"
    }
   ],
   "source": [
    "numbers"
   ]
  },
  {
   "cell_type": "code",
   "execution_count": 16,
   "id": "3ad9ddce",
   "metadata": {},
   "outputs": [
    {
     "data": {
      "text/plain": [
       "array([[ 2,  4,  6,  8],\n",
       "       [10, 12, 14, 16],\n",
       "       [18, 20, 22, 24]])"
      ]
     },
     "execution_count": 16,
     "metadata": {},
     "output_type": "execute_result"
    }
   ],
   "source": [
    "numbers2 = numbers * 2\n",
    "numbers2"
   ]
  },
  {
   "cell_type": "code",
   "execution_count": 19,
   "id": "71740a88",
   "metadata": {},
   "outputs": [
    {
     "data": {
      "text/plain": [
       "2"
      ]
     },
     "execution_count": 19,
     "metadata": {},
     "output_type": "execute_result"
    }
   ],
   "source": [
    "numbers2.ndim"
   ]
  },
  {
   "cell_type": "code",
   "execution_count": 20,
   "id": "d12026c1",
   "metadata": {},
   "outputs": [
    {
     "data": {
      "text/plain": [
       "(3, 4)"
      ]
     },
     "execution_count": 20,
     "metadata": {},
     "output_type": "execute_result"
    }
   ],
   "source": [
    "numbers2.shape"
   ]
  },
  {
   "cell_type": "code",
   "execution_count": 23,
   "id": "9e68054c",
   "metadata": {},
   "outputs": [
    {
     "name": "stdout",
     "output_type": "stream",
     "text": [
      "1 2 3 4 \n",
      "5 6 7 8 \n",
      "9 10 11 12 \n"
     ]
    }
   ],
   "source": [
    "for row in numbers:\n",
    "    for column in row:\n",
    "        print(column, end=' ')\n",
    "    print()"
   ]
  },
  {
   "cell_type": "code",
   "execution_count": 24,
   "id": "b07db21b",
   "metadata": {},
   "outputs": [
    {
     "name": "stdout",
     "output_type": "stream",
     "text": [
      "1 2 3 4 5 6 7 8 9 10 11 12 "
     ]
    }
   ],
   "source": [
    "for i in numbers.flat:\n",
    "    print(i, end=' ')"
   ]
  },
  {
   "cell_type": "code",
   "execution_count": null,
   "id": "1260b22f",
   "metadata": {},
   "outputs": [],
   "source": [
    "Exercise 2"
   ]
  },
  {
   "cell_type": "code",
   "execution_count": 27,
   "id": "9ac7d75c",
   "metadata": {},
   "outputs": [
    {
     "data": {
      "image/png": "[encoded data removed]",
      "text/plain": [
       "<Figure size 432x288 with 1 Axes>"
      ]
     },
     "metadata": {
      "needs_background": "light"
     },
     "output_type": "display_data"
    }
   ],
   "source": [
    "import matplotlib.pyplot as plt\n",
    "import numpy as np\n",
    "\n",
    "xpoints = np.array([1, 6])\n",
    "ypoints = np.array([5, 10])\n",
    "\n",
    "plt.plot(xpoints, ypoints)\n",
    "plt.show()"
   ]
  },
  {
   "cell_type": "code",
   "execution_count": 53,
   "id": "cc454303",
   "metadata": {},
   "outputs": [
    {
     "data": {
      "image/png": "[encoded data removed]",
      "text/plain": [
       "<Figure size 432x288 with 1 Axes>"
      ]
     },
     "metadata": {
      "needs_background": "light"
     },
     "output_type": "display_data"
    }
   ],
   "source": [
    "import matplotlib.pyplot as plt\n",
    "import numpy as np\n",
    "\n",
    "xpoints = np.array([3, 6, 9, 12])\n",
    "ypoints = np.array([2, 8, 1, 10])\n",
    "\n",
    "plt.plot(xpoints, ypoints, marker = 's' )\n",
    "plt.show()"
   ]
  },
  {
   "cell_type": "code",
   "execution_count": null,
   "id": "225bc9e3",
   "metadata": {},
   "outputs": [],
   "source": [
    "Exercise 3"
   ]
  },
  {
   "cell_type": "code",
   "execution_count": 29,
   "id": "ab53b096",
   "metadata": {},
   "outputs": [
    {
     "data": {
      "image/png": "[encoded data removed]",
      "text/plain": [
       "<Figure size 432x288 with 1 Axes>"
      ]
     },
     "metadata": {
      "needs_background": "light"
     },
     "output_type": "display_data"
    }
   ],
   "source": [
    "import matplotlib.pyplot as plt\n",
    "import numpy as np\n",
    "\n",
    "xpoints = np.array([0, 1, 2, 3, 4, 5])\n",
    "ypoints = np.array([2, 4, 6, 14, 10, 12])\n",
    "\n",
    "plt.plot(xpoints, ypoints, 's--r', ms = 10, mfc = 'g', mec = 'g'  )\n",
    "plt.show()"
   ]
  },
  {
   "cell_type": "code",
   "execution_count": null,
   "id": "f4465350",
   "metadata": {},
   "outputs": [],
   "source": [
    "Exercise 4"
   ]
  },
  {
   "cell_type": "code",
   "execution_count": 30,
   "id": "ed77b223",
   "metadata": {},
   "outputs": [
    {
     "data": {
      "image/png": "[encoded data removed]",
      "text/plain": [
       "<Figure size 432x288 with 1 Axes>"
      ]
     },
     "metadata": {
      "needs_background": "light"
     },
     "output_type": "display_data"
    }
   ],
   "source": [
    "import matplotlib.pyplot as plt\n",
    "import numpy as np\n",
    "\n",
    "x1 = np.array([0.0, 1, 2, 3, 4])\n",
    "y1 = np.array([1, 2, 3, 4, 5])\n",
    "x2 = np.array([0.0, 1, 2, 3, 4])\n",
    "y2 = np.array([5, 6, 7, 8, 9])\n",
    "x3 = np.array([0.0, 1, 2, 3, 4])\n",
    "y3 = np.array([9, 10, 11, 12, 13])\n",
    "\n",
    "plt.plot(x1, y1, x2, y2, x3, y3)\n",
    "plt.show()"
   ]
  },
  {
   "cell_type": "code",
   "execution_count": null,
   "id": "4a7b7cba",
   "metadata": {},
   "outputs": [],
   "source": [
    "Exercise 5"
   ]
  },
  {
   "cell_type": "code",
   "execution_count": 33,
   "id": "f20eb877",
   "metadata": {},
   "outputs": [
    {
     "name": "stdout",
     "output_type": "stream",
     "text": [
      "Andy : 88\n",
      "Amy : 66\n",
      "James : 90\n",
      "Jules : 55\n",
      "Arthur : 77\n"
     ]
    }
   ],
   "source": [
    "marks = {'Andy': 88, 'Amy': 66, 'James': 90, 'Jules': 55, 'Arthur': 77}\n",
    "for name, grades in marks.items():\n",
    "    print(name, \":\", grades)"
   ]
  },
  {
   "cell_type": "code",
   "execution_count": 35,
   "id": "18754006",
   "metadata": {},
   "outputs": [
    {
     "data": {
      "image/png": "[encoded data removed]",
      "text/plain": [
       "<Figure size 432x288 with 1 Axes>"
      ]
     },
     "metadata": {
      "needs_background": "light"
     },
     "output_type": "display_data"
    }
   ],
   "source": [
    "import matplotlib.pyplot as plt\n",
    "import numpy as np\n",
    "\n",
    "x = np.array([\"Andy\", \"Amy\", \"James\", \"Jules\", \"Arthur\"])\n",
    "y = np.array([88, 66, 90, 55, 77])\n",
    "\n",
    "plt.bar(x, y)\n",
    "plt.title(\"Student Grades\")\n",
    "plt.show()"
   ]
  },
  {
   "cell_type": "code",
   "execution_count": 1,
   "id": "f9e7a325",
   "metadata": {},
   "outputs": [
    {
     "data": {
      "image/png": "[encoded data removed]",
      "text/plain": [
       "<Figure size 432x288 with 1 Axes>"
      ]
     },
     "metadata": {},
     "output_type": "display_data"
    }
   ],
   "source": [
    "import matplotlib.pyplot as plt\n",
    "import numpy as np\n",
    "\n",
    "y = np.array([88, 66, 90, 55, 77])\n",
    "mylabels = [\"Andy\", \"Amy\", \"James\", \"Jules\", \"Arthur\"]\n",
    "\n",
    "plt.pie(y, labels = mylabels)\n",
    "plt.title(\"Student Grades\")\n",
    "plt.legend(bbox_to_anchor=(1.05, 1.0), loc='upper left')\n",
    "plt.show()"
   ]
  },
  {
   "cell_type": "code",
   "execution_count": null,
   "id": "45f0690b",
   "metadata": {},
   "outputs": [],
   "source": [
    "Exercise 6"
   ]
  },
  {
   "cell_type": "code",
   "execution_count": 57,
   "id": "4fb1196d",
   "metadata": {},
   "outputs": [
    {
     "data": {
      "image/png": "[encoded data removed]",
      "text/plain": [
       "<Figure size 432x288 with 6 Axes>"
      ]
     },
     "metadata": {
      "needs_background": "light"
     },
     "output_type": "display_data"
    }
   ],
   "source": [
    "import matplotlib.pyplot as plt\n",
    "import numpy as np\n",
    "\n",
    "x1 = np.array([0, 1, 2, 3])\n",
    "y1 = np.array([3, 8, 1, 10])\n",
    "x2 = np.array([0, 1, 2, 3])\n",
    "y2 = np.array([6, 2, 7, 11])\n",
    "\n",
    "plt.subplot(2, 3, 1)\n",
    "plt.plot(x1, y1, x2, y2)\n",
    "\n",
    "x = np.array([\"A\", \"B\", \"C\", \"D\"])\n",
    "y = np.array([3, 8, 1, 10])\n",
    "\n",
    "plt.subplot(2, 3, 2)\n",
    "plt.bar(x, y)\n",
    "\n",
    "y3 = np.array([35, 25, 25])\n",
    "mylabels = [\"Apples\", \"Bananas\", \"Cherries\"]\n",
    "\n",
    "plt.subplot(2, 3, 3)\n",
    "plt.pie(y3, labels = mylabels)\n",
    "\n",
    "xpoints = np.array([3, 6, 9, 12])\n",
    "ypoints = np.array([2, 8, 1, 10])\n",
    "\n",
    "\n",
    "plt.subplot(2, 3, 4)\n",
    "plt.plot(xpoints, ypoints)\n",
    "plt.grid()\n",
    "\n",
    "x = np.array([5, 7, 8, 7, 2, 17, 2, 9, 4, 11])\n",
    "y = np.array([30, 45, 56, 21, 5, 24, 12, 67, 90, 50])\n",
    "\n",
    "plt.subplot(2, 3, 5)\n",
    "plt.scatter(x, y)\n",
    "\n",
    "x = np.random.normal(170, 10, 250)\n",
    "\n",
    "plt.subplot(2, 3, 6)\n",
    "plt. hist(x)\n",
    "\n",
    "plt.show()"
   ]
  },
  {
   "cell_type": "code",
   "execution_count": null,
   "id": "01a6b817",
   "metadata": {},
   "outputs": [],
   "source": []
  }
 ],
 "metadata": {
  "kernelspec": {
   "display_name": "Python 3 (ipykernel)",
   "language": "python",
   "name": "python3"
  },
  "language_info": {
   "codemirror_mode": {
    "name": "ipython",
    "version": 3
   },
   "file_extension": ".py",
   "mimetype": "text/x-python",
   "name": "python",
   "nbconvert_exporter": "python",
   "pygments_lexer": "ipython3",
   "version": "3.9.7"
  }
 },
 "nbformat": 4,
 "nbformat_minor": 5
}
